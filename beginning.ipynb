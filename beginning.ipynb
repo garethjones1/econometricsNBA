{
 "cells": [
  {
   "cell_type": "code",
   "execution_count": 1,
   "id": "98fdfe90",
   "metadata": {},
   "outputs": [],
   "source": [
    "import requests\n",
    "from bs4 import BeautifulSoup\n",
    "import pandas as pd"
   ]
  },
  {
   "cell_type": "code",
   "execution_count": 2,
   "id": "2f3acb18",
   "metadata": {},
   "outputs": [
    {
     "name": "stderr",
     "output_type": "stream",
     "text": [
      "C:\\Users\\girth\\AppData\\Local\\Temp\\ipykernel_13232\\2085239294.py:17: FutureWarning: Passing literal html to 'read_html' is deprecated and will be removed in a future version. To read from a literal string, wrap it in a 'StringIO' object.\n",
      "  df = pd.read_html(str(table))[0]\n"
     ]
    },
    {
     "name": "stdout",
     "output_type": "stream",
     "text": [
      "\n"
     ]
    },
    {
     "name": "stderr",
     "output_type": "stream",
     "text": [
      "C:\\Users\\girth\\AppData\\Local\\Temp\\ipykernel_13232\\2085239294.py:17: FutureWarning: Passing literal html to 'read_html' is deprecated and will be removed in a future version. To read from a literal string, wrap it in a 'StringIO' object.\n",
      "  df = pd.read_html(str(table))[0]\n"
     ]
    },
    {
     "name": "stdout",
     "output_type": "stream",
     "text": [
      "\n"
     ]
    },
    {
     "name": "stderr",
     "output_type": "stream",
     "text": [
      "C:\\Users\\girth\\AppData\\Local\\Temp\\ipykernel_13232\\2085239294.py:17: FutureWarning: Passing literal html to 'read_html' is deprecated and will be removed in a future version. To read from a literal string, wrap it in a 'StringIO' object.\n",
      "  df = pd.read_html(str(table))[0]\n",
      "C:\\Users\\girth\\AppData\\Local\\Temp\\ipykernel_13232\\2085239294.py:17: FutureWarning: Passing literal html to 'read_html' is deprecated and will be removed in a future version. To read from a literal string, wrap it in a 'StringIO' object.\n",
      "  df = pd.read_html(str(table))[0]\n"
     ]
    },
    {
     "name": "stdout",
     "output_type": "stream",
     "text": [
      "\n"
     ]
    },
    {
     "name": "stderr",
     "output_type": "stream",
     "text": [
      "C:\\Users\\girth\\AppData\\Local\\Temp\\ipykernel_13232\\2085239294.py:17: FutureWarning: Passing literal html to 'read_html' is deprecated and will be removed in a future version. To read from a literal string, wrap it in a 'StringIO' object.\n",
      "  df = pd.read_html(str(table))[0]\n"
     ]
    }
   ],
   "source": [
    "def load_contracts(url, years, extra):\n",
    "    \"\"\"\n",
    "    Fetches the Basketball‑Reference contracts table at `url`,\n",
    "    cleans it, and computes Salary Count & Average Salary.\n",
    "    \n",
    "    years: list of the six season‑column names, e.g.\n",
    "           [\"2022-23\",\"2023-24\",\"2024-25\",\"2025-26\",\"2026-27\",\"2027-28\"]\n",
    "    \"\"\"\n",
    "    # Step 1–3: get & parse\n",
    "    headers = {\"User-Agent\": \"Mozilla/5.0\"}\n",
    "    resp = requests.get(url, headers=headers)\n",
    "    resp.encoding = 'utf-8'\n",
    "    soup = BeautifulSoup(resp.text, \"html.parser\")\n",
    "    table = soup.find(\"table\", {\"id\": \"player-contracts\"})\n",
    "    \n",
    "    # Step 4: read into pandas\n",
    "    df = pd.read_html(str(table))[0]\n",
    "    \n",
    "    # Step 5: set cols\n",
    "    if extra:\n",
    "        df.columns = [\"Rk\", \"Player\", \"Tm\"] + years + [\"BIRD\"] + [\"Guaranteed\"]\n",
    "    else:\n",
    "        df.columns = [\"Rk\", \"Player\", \"Tm\"] + years + [\"Guaranteed\"]\n",
    "    # Step 6: drop repeats/blanks\n",
    "    df = df[\n",
    "        df[\"Player\"].notna()\n",
    "        & (df[\"Player\"] != \"Player\")\n",
    "        & (df[\"Player\"] != \"Missing value\")\n",
    "    ].copy()\n",
    "    \n",
    "    # Step 7: count non-null salaries\n",
    "    df['Salary Count'] = (\n",
    "        df.iloc[:, 3:3+len(years)]\n",
    "          .notnull()\n",
    "          .sum(axis=1)\n",
    "          .astype(int)\n",
    "    )\n",
    "    \n",
    "    # Step 8: clean & convert Guaranteed to float\n",
    "    df['Guaranteed'] = (\n",
    "        df['Guaranteed']\n",
    "          .astype(str)\n",
    "          .str.replace(r'[^0-9\\.]', '', regex=True)\n",
    "    )\n",
    "    df['Guaranteed'] = pd.to_numeric(df['Guaranteed'], errors='coerce')\n",
    "    \n",
    "    # report any failures\n",
    "    bad = df['Guaranteed'].isna()\n",
    "    if bad.any():\n",
    "        print()\n",
    "        #print(\"Rows with non‑numeric Guaranteed:\",\n",
    "        #      df.loc[bad, ['Player','Guaranteed']])\n",
    "    \n",
    "    # Step 9: compute average\n",
    "    df['Average Salary'] = df['Guaranteed'] / df['Salary Count']\n",
    "\n",
    "    \n",
    "    return df\n",
    "\n",
    "# --- now just call it for each snapshot:\n",
    "years21 = [\"2020-21\",\"2021-22\",\"2022-23\",\"2023-24\",\"2024-25\",\"2025-26\"] #\n",
    "url21   = \"https://web.archive.org/web/20220127184320/https://www.basketball-reference.com//contracts/players.html\"\n",
    "contract21 = load_contracts(url21, years21, True)\n",
    "\n",
    "years22 = [\"2021-22\",\"2022-23\",\"2023-24\",\"2024-25\",\"2025-26\",\"2026-27\"]\n",
    "url22   = \"https://web.archive.org/web/20220127184320/https://www.basketball-reference.com//contracts/players.html\"\n",
    "contract22 = load_contracts(url22, years22, True)\n",
    "\n",
    "years23 = [\"2022-23\",\"2023-24\",\"2024-25\",\"2025-26\",\"2026-27\",\"2027-28\"]\n",
    "url23   = \"https://web.archive.org/web/20230516051257/https://www.basketball-reference.com/contracts/players.html\"\n",
    "contract23 = load_contracts(url23, years23, False)\n",
    "\n",
    "years24 = [\"2023-24\",\"2024-25\",\"2025-26\",\"2026-27\",\"2027-28\",\"2028-29\"]\n",
    "url24   = \"https://web.archive.org/web/20240603223914/https://www.basketball-reference.com/contracts/players.html\"\n",
    "contract24 = load_contracts(url24, years24, False)\n",
    "\n",
    "years25 = [\"2024-25\",\"2025-26\",\"2026-27\",\"2027-28\",\"2028-29\",\"2029-30\"]\n",
    "url25 = \"https://www.basketball-reference.com/contracts/players.html\"\n",
    "contract25 = load_contracts(url25, years25, False)"
   ]
  },
  {
   "cell_type": "code",
   "execution_count": 5,
   "id": "544a067f",
   "metadata": {},
   "outputs": [],
   "source": [
    "def load_stats(season):\n",
    "    \"\"\"\n",
    "    Load stats from text{season}.txt and assign column names.\n",
    "    season: int or str, e.g. 21, '22', 25\n",
    "    \"\"\"\n",
    "    fn = f'text{season}.txt'\n",
    "    df = pd.read_csv(\n",
    "        fn,\n",
    "        sep=',',\n",
    "        header=None,\n",
    "        encoding='utf-8'\n",
    "    )\n",
    "    df.columns = [\n",
    "        'Rank','Player','Age','Team','Position',\n",
    "        'Games','Games Started','MP','FG','FGA','FG%',\n",
    "        '3P','3PA','3P%','2P','2PA','2P%','eFG%',\n",
    "        'FT','FTA','FT%','ORB','DRB','TRB',\n",
    "        'AST','STL','BLK','TOV','PF','PTS',\n",
    "        'Player-additional'\n",
    "    ]\n",
    "    return df\n",
    "\n",
    "# Now load each season’s stats in one line:\n",
    "stats21 = load_stats(21)\n",
    "stats22 = load_stats(22)\n",
    "stats23 = load_stats(23)\n",
    "stats24 = load_stats(24)\n",
    "stats25 = load_stats(25)"
   ]
  },
  {
   "cell_type": "code",
   "execution_count": 6,
   "id": "cf98ca81",
   "metadata": {},
   "outputs": [],
   "source": [
    "def merge_contract_stats(contract_df, stats_df):\n",
    "    \"\"\"\n",
    "    Strips whitespace from both DataFrames' Player columns\n",
    "    and returns their inner merge on Player.\n",
    "    \"\"\"\n",
    "    # work on copies so we don’t clobber originals\n",
    "    c = contract_df.copy()\n",
    "    s = stats_df  .copy()\n",
    "    \n",
    "    c['Player'] = c['Player'].str.strip()\n",
    "    s['Player'] = s['Player'].str.strip()\n",
    "    \n",
    "    merged = pd.merge(\n",
    "        c, s,\n",
    "        on='Player',\n",
    "        how='inner',\n",
    "        suffixes=('_contract','_stats')\n",
    "    )\n",
    "    return merged"
   ]
  },
  {
   "cell_type": "code",
   "execution_count": 7,
   "id": "b881f48a",
   "metadata": {},
   "outputs": [],
   "source": [
    "merged25 = merge_contract_stats(contract25, stats25)\n",
    "merged24 = merge_contract_stats(contract24, stats24)\n",
    "merged23 = merge_contract_stats(contract23, stats23)\n",
    "merged22 = merge_contract_stats(contract22, stats22)\n",
    "merged21 = merge_contract_stats(contract21, stats21)\n"
   ]
  },
  {
   "cell_type": "code",
   "execution_count": 9,
   "id": "36ad2018",
   "metadata": {},
   "outputs": [],
   "source": [
    "cap2021 = 109140000 \n",
    "cap2022 = 112414000\n",
    "cap2023 = 123655000 \n",
    "cap2024 = 136021000\n",
    "cap2025 = 140588000 "
   ]
  },
  {
   "cell_type": "code",
   "execution_count": 10,
   "id": "2573dec3",
   "metadata": {},
   "outputs": [],
   "source": [
    "def percent_of_cap(years, df, cap):\n",
    "    \"\"\"\n",
    "    For each column in `years`, removes any commas (or $),\n",
    "    converts to float, and then adds a\n",
    "      'Percent of Cap {year}'\n",
    "    column (in percent).\n",
    "    \"\"\"\n",
    "    df = df.copy()\n",
    "    \n",
    "    for year in years:\n",
    "        # 1) remove commas or dollar signs, then cast to float\n",
    "        df[year] = (\n",
    "            df[year]\n",
    "              .astype(str)\n",
    "              .str.replace(r'[,\\$]', '', regex=True)\n",
    "              .astype(float)\n",
    "        )\n",
    "        \n",
    "        # 2) compute percent of cap\n",
    "        df[f'Percent of Cap {year}'] = (df[year] / cap)\n",
    "    \n",
    "    return df\n"
   ]
  },
  {
   "cell_type": "code",
   "execution_count": 19,
   "id": "d6a64e3b",
   "metadata": {},
   "outputs": [],
   "source": [
    "final25 = percent_of_cap(years25, merged25, cap2025)\n",
    "final24 = percent_of_cap(years24, merged24, cap2024)\n",
    "final23 = percent_of_cap(years23, merged23, cap2023)\n",
    "final22 = percent_of_cap(years22, merged22, cap2022)\n",
    "final21 = percent_of_cap(years21, merged21, cap2021)"
   ]
  },
  {
   "cell_type": "code",
   "execution_count": 20,
   "id": "63f5ecdb",
   "metadata": {},
   "outputs": [],
   "source": [
    "final22.drop('BIRD', axis=1, inplace=True)\n",
    "final21.drop('BIRD', axis=1, inplace=True)"
   ]
  },
  {
   "cell_type": "code",
   "execution_count": null,
   "id": "5152bba9",
   "metadata": {},
   "outputs": [],
   "source": []
  },
  {
   "cell_type": "code",
   "execution_count": 24,
   "id": "7b29480f",
   "metadata": {},
   "outputs": [],
   "source": [
    "def avg_percent_of_cap(years, df):\n",
    "    \"\"\"\n",
    "    Calculates the average of the 'Percent of Cap {year}' columns for each player.\n",
    "    Ignores missing values during the calculation.\n",
    "    \n",
    "    years: list of years for which 'Percent of Cap {year}' columns exist.\n",
    "    df: DataFrame containing the 'Percent of Cap {year}' columns.\n",
    "    \n",
    "    Returns:\n",
    "        DataFrame with an additional column 'Average Percent of Cap'.\n",
    "    \"\"\"\n",
    "    percent_columns = [f'Percent of Cap {year}' for year in years]\n",
    "    df['Average Percent of Cap'] = df[percent_columns].mean(axis=1, skipna=True)\n",
    "    return df"
   ]
  },
  {
   "cell_type": "code",
   "execution_count": 25,
   "id": "8c96d6db",
   "metadata": {},
   "outputs": [],
   "source": [
    "final25 = avg_percent_of_cap(years25, final25)\n",
    "final24 = avg_percent_of_cap(years24, final24)\n",
    "final23 = avg_percent_of_cap(years23, final23)\n",
    "final22 = avg_percent_of_cap(years22, final22)\n",
    "final21 = avg_percent_of_cap(years21, final21)"
   ]
  },
  {
   "cell_type": "code",
   "execution_count": null,
   "id": "75671633",
   "metadata": {},
   "outputs": [
    {
     "name": "stdout",
     "output_type": "stream",
     "text": [
      "(2478, 58)\n"
     ]
    },
    {
     "data": {
      "application/vnd.microsoft.datawrangler.viewer.v0+json": {
       "columns": [
        {
         "name": "index",
         "rawType": "int64",
         "type": "integer"
        },
        {
         "name": "Season",
         "rawType": "object",
         "type": "string"
        },
        {
         "name": "Rk",
         "rawType": "object",
         "type": "string"
        },
        {
         "name": "Player",
         "rawType": "object",
         "type": "string"
        },
        {
         "name": "Tm",
         "rawType": "object",
         "type": "string"
        },
        {
         "name": "2020-21",
         "rawType": "float64",
         "type": "float"
        },
        {
         "name": "2021-22",
         "rawType": "float64",
         "type": "float"
        },
        {
         "name": "2022-23",
         "rawType": "float64",
         "type": "float"
        },
        {
         "name": "2023-24",
         "rawType": "float64",
         "type": "float"
        },
        {
         "name": "2024-25",
         "rawType": "float64",
         "type": "float"
        },
        {
         "name": "2025-26",
         "rawType": "float64",
         "type": "float"
        },
        {
         "name": "Guaranteed",
         "rawType": "float64",
         "type": "float"
        },
        {
         "name": "Salary Count",
         "rawType": "int32",
         "type": "integer"
        },
        {
         "name": "Average Salary",
         "rawType": "float64",
         "type": "float"
        },
        {
         "name": "Rank",
         "rawType": "object",
         "type": "string"
        },
        {
         "name": "Age",
         "rawType": "float64",
         "type": "float"
        },
        {
         "name": "Team",
         "rawType": "object",
         "type": "string"
        },
        {
         "name": "Position",
         "rawType": "object",
         "type": "string"
        },
        {
         "name": "Games",
         "rawType": "float64",
         "type": "float"
        },
        {
         "name": "Games Started",
         "rawType": "float64",
         "type": "float"
        },
        {
         "name": "MP",
         "rawType": "float64",
         "type": "float"
        },
        {
         "name": "FG",
         "rawType": "float64",
         "type": "float"
        },
        {
         "name": "FGA",
         "rawType": "float64",
         "type": "float"
        },
        {
         "name": "FG%",
         "rawType": "float64",
         "type": "float"
        },
        {
         "name": "3P",
         "rawType": "float64",
         "type": "float"
        },
        {
         "name": "3PA",
         "rawType": "float64",
         "type": "float"
        },
        {
         "name": "3P%",
         "rawType": "float64",
         "type": "float"
        },
        {
         "name": "2P",
         "rawType": "float64",
         "type": "float"
        },
        {
         "name": "2PA",
         "rawType": "float64",
         "type": "float"
        },
        {
         "name": "2P%",
         "rawType": "float64",
         "type": "float"
        },
        {
         "name": "eFG%",
         "rawType": "float64",
         "type": "float"
        },
        {
         "name": "FT",
         "rawType": "float64",
         "type": "float"
        },
        {
         "name": "FTA",
         "rawType": "float64",
         "type": "float"
        },
        {
         "name": "FT%",
         "rawType": "float64",
         "type": "float"
        },
        {
         "name": "ORB",
         "rawType": "float64",
         "type": "float"
        },
        {
         "name": "DRB",
         "rawType": "float64",
         "type": "float"
        },
        {
         "name": "TRB",
         "rawType": "float64",
         "type": "float"
        },
        {
         "name": "AST",
         "rawType": "float64",
         "type": "float"
        },
        {
         "name": "STL",
         "rawType": "float64",
         "type": "float"
        },
        {
         "name": "BLK",
         "rawType": "float64",
         "type": "float"
        },
        {
         "name": "TOV",
         "rawType": "float64",
         "type": "float"
        },
        {
         "name": "PF",
         "rawType": "float64",
         "type": "float"
        },
        {
         "name": "PTS",
         "rawType": "float64",
         "type": "float"
        },
        {
         "name": "Player-additional",
         "rawType": "object",
         "type": "string"
        },
        {
         "name": "Percent of Cap 2020-21",
         "rawType": "float64",
         "type": "float"
        },
        {
         "name": "Percent of Cap 2021-22",
         "rawType": "float64",
         "type": "float"
        },
        {
         "name": "Percent of Cap 2022-23",
         "rawType": "float64",
         "type": "float"
        },
        {
         "name": "Percent of Cap 2023-24",
         "rawType": "float64",
         "type": "float"
        },
        {
         "name": "Percent of Cap 2024-25",
         "rawType": "float64",
         "type": "float"
        },
        {
         "name": "Percent of Cap 2025-26",
         "rawType": "float64",
         "type": "float"
        },
        {
         "name": "Average Percent of Cap",
         "rawType": "float64",
         "type": "float"
        },
        {
         "name": "2026-27",
         "rawType": "float64",
         "type": "float"
        },
        {
         "name": "Percent of Cap 2026-27",
         "rawType": "float64",
         "type": "float"
        },
        {
         "name": "2027-28",
         "rawType": "float64",
         "type": "float"
        },
        {
         "name": "Percent of Cap 2027-28",
         "rawType": "float64",
         "type": "float"
        },
        {
         "name": "2028-29",
         "rawType": "float64",
         "type": "float"
        },
        {
         "name": "Percent of Cap 2028-29",
         "rawType": "float64",
         "type": "float"
        },
        {
         "name": "2029-30",
         "rawType": "float64",
         "type": "float"
        },
        {
         "name": "Percent of Cap 2029-30",
         "rawType": "float64",
         "type": "float"
        }
       ],
       "conversionMethod": "pd.DataFrame",
       "ref": "599e02f7-72da-4036-b544-69e4d4e415e9",
       "rows": [
        [
         "0",
         "2020-21",
         "1",
         "Stephen Curry",
         "GSW",
         "45780966.0",
         "48070014.0",
         "51915615.0",
         "55761216.0",
         "59606817.0",
         null,
         "261134628.0",
         "5",
         "52226925.6",
         "1",
         "32.0",
         "GSW",
         "PG",
         "63.0",
         "63.0",
         "34.2",
         "10.4",
         "21.7",
         "0.482",
         "5.3",
         "12.7",
         "0.421",
         "5.1",
         "9.0",
         "0.569",
         "0.605",
         "5.7",
         "6.3",
         "0.916",
         "0.5",
         "5.0",
         "5.5",
         "5.8",
         "1.2",
         "0.1",
         "3.4",
         "1.9",
         "32.0",
         "curryst01",
         "0.41947009345794395",
         "0.44044359538207806",
         "0.47567908191313907",
         "0.5109145684442001",
         "0.5461500549752611",
         null,
         "0.47853147883452446",
         null,
         null,
         null,
         null,
         null,
         null,
         null,
         null
        ],
        [
         "1",
         "2020-21",
         "2",
         "John Wall",
         "HOU",
         "44310840.0",
         "47366760.0",
         null,
         null,
         null,
         null,
         "44310840.0",
         "2",
         "22155420.0",
         "38",
         "30.0",
         "HOU",
         "PG",
         "40.0",
         "40.0",
         "32.2",
         "7.3",
         "18.2",
         "0.404",
         "2.0",
         "6.2",
         "0.317",
         "5.4",
         "11.9",
         "0.449",
         "0.458",
         "4.0",
         "5.3",
         "0.749",
         "0.4",
         "2.8",
         "3.2",
         "6.9",
         "1.1",
         "0.8",
         "3.5",
         "1.2",
         "20.6",
         "walljo01",
         "0.406",
         "0.434",
         null,
         null,
         null,
         null,
         "0.42000000000000004",
         null,
         null,
         null,
         null,
         null,
         null,
         null,
         null
        ],
        [
         "2",
         "2020-21",
         "3",
         "Russell Westbrook",
         "LAL",
         "44211146.0",
         "47063478.0",
         null,
         null,
         null,
         null,
         "44211146.0",
         "2",
         "22105573.0",
         "30",
         "32.0",
         "WAS",
         "PG",
         "65.0",
         "65.0",
         "36.4",
         "8.4",
         "19.0",
         "0.439",
         "1.3",
         "4.2",
         "0.315",
         "7.0",
         "14.8",
         "0.475",
         "0.474",
         "4.2",
         "6.4",
         "0.656",
         "1.7",
         "9.9",
         "11.5",
         "11.7",
         "1.4",
         "0.4",
         "4.8",
         "2.9",
         "22.2",
         "westbru01",
         "0.4050865493861096",
         "0.431221165475536",
         null,
         null,
         null,
         null,
         "0.4181538574308228",
         null,
         null,
         null,
         null,
         null,
         null,
         null,
         null
        ],
        [
         "3",
         "2020-21",
         "4",
         "James Harden",
         "BRK",
         "43848000.0",
         "46872000.0",
         null,
         null,
         null,
         null,
         "43848000.0",
         "2",
         "21924000.0",
         "21",
         "31.0",
         "2TM",
         "PG",
         "44.0",
         "43.0",
         "36.6",
         "7.8",
         "16.7",
         "0.466",
         "2.8",
         "7.6",
         "0.362",
         "5.0",
         "9.1",
         "0.553",
         "0.548",
         "6.3",
         "7.3",
         "0.861",
         "0.8",
         "7.1",
         "7.9",
         "10.8",
         "1.2",
         "0.8",
         "4.0",
         "2.3",
         "24.6",
         "hardeja01",
         "0.4017592083562397",
         "0.42946673996701484",
         null,
         null,
         null,
         null,
         "0.41561297416162724",
         null,
         null,
         null,
         null,
         null,
         null,
         null,
         null
        ],
        [
         "4",
         "2020-21",
         "5",
         "LeBron James",
         "LAL",
         "41180544.0",
         "44474988.0",
         null,
         null,
         null,
         null,
         "85655532.0",
         "2",
         "42827766.0",
         "17",
         "36.0",
         "LAL",
         "PG",
         "45.0",
         "45.0",
         "33.4",
         "9.4",
         "18.3",
         "0.513",
         "2.3",
         "6.3",
         "0.365",
         "7.1",
         "12.0",
         "0.591",
         "0.576",
         "4.0",
         "5.7",
         "0.698",
         "0.6",
         "7.0",
         "7.7",
         "7.8",
         "1.1",
         "0.6",
         "3.7",
         "1.6",
         "25.0",
         "jamesle01",
         "0.37731852666300164",
         "0.40750401319406265",
         null,
         null,
         null,
         null,
         "0.39241126992853215",
         null,
         null,
         null,
         null,
         null,
         null,
         null,
         null
        ]
       ],
       "shape": {
        "columns": 58,
        "rows": 5
       }
      },
      "text/html": [
       "<div>\n",
       "<style scoped>\n",
       "    .dataframe tbody tr th:only-of-type {\n",
       "        vertical-align: middle;\n",
       "    }\n",
       "\n",
       "    .dataframe tbody tr th {\n",
       "        vertical-align: top;\n",
       "    }\n",
       "\n",
       "    .dataframe thead th {\n",
       "        text-align: right;\n",
       "    }\n",
       "</style>\n",
       "<table border=\"1\" class=\"dataframe\">\n",
       "  <thead>\n",
       "    <tr style=\"text-align: right;\">\n",
       "      <th></th>\n",
       "      <th>Season</th>\n",
       "      <th>Rk</th>\n",
       "      <th>Player</th>\n",
       "      <th>Tm</th>\n",
       "      <th>2020-21</th>\n",
       "      <th>2021-22</th>\n",
       "      <th>2022-23</th>\n",
       "      <th>2023-24</th>\n",
       "      <th>2024-25</th>\n",
       "      <th>2025-26</th>\n",
       "      <th>...</th>\n",
       "      <th>Percent of Cap 2025-26</th>\n",
       "      <th>Average Percent of Cap</th>\n",
       "      <th>2026-27</th>\n",
       "      <th>Percent of Cap 2026-27</th>\n",
       "      <th>2027-28</th>\n",
       "      <th>Percent of Cap 2027-28</th>\n",
       "      <th>2028-29</th>\n",
       "      <th>Percent of Cap 2028-29</th>\n",
       "      <th>2029-30</th>\n",
       "      <th>Percent of Cap 2029-30</th>\n",
       "    </tr>\n",
       "  </thead>\n",
       "  <tbody>\n",
       "    <tr>\n",
       "      <th>0</th>\n",
       "      <td>2020-21</td>\n",
       "      <td>1</td>\n",
       "      <td>Stephen Curry</td>\n",
       "      <td>GSW</td>\n",
       "      <td>45780966.0</td>\n",
       "      <td>48070014.0</td>\n",
       "      <td>51915615.0</td>\n",
       "      <td>55761216.0</td>\n",
       "      <td>59606817.0</td>\n",
       "      <td>NaN</td>\n",
       "      <td>...</td>\n",
       "      <td>NaN</td>\n",
       "      <td>0.478531</td>\n",
       "      <td>NaN</td>\n",
       "      <td>NaN</td>\n",
       "      <td>NaN</td>\n",
       "      <td>NaN</td>\n",
       "      <td>NaN</td>\n",
       "      <td>NaN</td>\n",
       "      <td>NaN</td>\n",
       "      <td>NaN</td>\n",
       "    </tr>\n",
       "    <tr>\n",
       "      <th>1</th>\n",
       "      <td>2020-21</td>\n",
       "      <td>2</td>\n",
       "      <td>John Wall</td>\n",
       "      <td>HOU</td>\n",
       "      <td>44310840.0</td>\n",
       "      <td>47366760.0</td>\n",
       "      <td>NaN</td>\n",
       "      <td>NaN</td>\n",
       "      <td>NaN</td>\n",
       "      <td>NaN</td>\n",
       "      <td>...</td>\n",
       "      <td>NaN</td>\n",
       "      <td>0.420000</td>\n",
       "      <td>NaN</td>\n",
       "      <td>NaN</td>\n",
       "      <td>NaN</td>\n",
       "      <td>NaN</td>\n",
       "      <td>NaN</td>\n",
       "      <td>NaN</td>\n",
       "      <td>NaN</td>\n",
       "      <td>NaN</td>\n",
       "    </tr>\n",
       "    <tr>\n",
       "      <th>2</th>\n",
       "      <td>2020-21</td>\n",
       "      <td>3</td>\n",
       "      <td>Russell Westbrook</td>\n",
       "      <td>LAL</td>\n",
       "      <td>44211146.0</td>\n",
       "      <td>47063478.0</td>\n",
       "      <td>NaN</td>\n",
       "      <td>NaN</td>\n",
       "      <td>NaN</td>\n",
       "      <td>NaN</td>\n",
       "      <td>...</td>\n",
       "      <td>NaN</td>\n",
       "      <td>0.418154</td>\n",
       "      <td>NaN</td>\n",
       "      <td>NaN</td>\n",
       "      <td>NaN</td>\n",
       "      <td>NaN</td>\n",
       "      <td>NaN</td>\n",
       "      <td>NaN</td>\n",
       "      <td>NaN</td>\n",
       "      <td>NaN</td>\n",
       "    </tr>\n",
       "    <tr>\n",
       "      <th>3</th>\n",
       "      <td>2020-21</td>\n",
       "      <td>4</td>\n",
       "      <td>James Harden</td>\n",
       "      <td>BRK</td>\n",
       "      <td>43848000.0</td>\n",
       "      <td>46872000.0</td>\n",
       "      <td>NaN</td>\n",
       "      <td>NaN</td>\n",
       "      <td>NaN</td>\n",
       "      <td>NaN</td>\n",
       "      <td>...</td>\n",
       "      <td>NaN</td>\n",
       "      <td>0.415613</td>\n",
       "      <td>NaN</td>\n",
       "      <td>NaN</td>\n",
       "      <td>NaN</td>\n",
       "      <td>NaN</td>\n",
       "      <td>NaN</td>\n",
       "      <td>NaN</td>\n",
       "      <td>NaN</td>\n",
       "      <td>NaN</td>\n",
       "    </tr>\n",
       "    <tr>\n",
       "      <th>4</th>\n",
       "      <td>2020-21</td>\n",
       "      <td>5</td>\n",
       "      <td>LeBron James</td>\n",
       "      <td>LAL</td>\n",
       "      <td>41180544.0</td>\n",
       "      <td>44474988.0</td>\n",
       "      <td>NaN</td>\n",
       "      <td>NaN</td>\n",
       "      <td>NaN</td>\n",
       "      <td>NaN</td>\n",
       "      <td>...</td>\n",
       "      <td>NaN</td>\n",
       "      <td>0.392411</td>\n",
       "      <td>NaN</td>\n",
       "      <td>NaN</td>\n",
       "      <td>NaN</td>\n",
       "      <td>NaN</td>\n",
       "      <td>NaN</td>\n",
       "      <td>NaN</td>\n",
       "      <td>NaN</td>\n",
       "      <td>NaN</td>\n",
       "    </tr>\n",
       "  </tbody>\n",
       "</table>\n",
       "<p>5 rows × 58 columns</p>\n",
       "</div>"
      ],
      "text/plain": [
       "    Season Rk             Player   Tm     2020-21     2021-22     2022-23  \\\n",
       "0  2020-21  1      Stephen Curry  GSW  45780966.0  48070014.0  51915615.0   \n",
       "1  2020-21  2          John Wall  HOU  44310840.0  47366760.0         NaN   \n",
       "2  2020-21  3  Russell Westbrook  LAL  44211146.0  47063478.0         NaN   \n",
       "3  2020-21  4       James Harden  BRK  43848000.0  46872000.0         NaN   \n",
       "4  2020-21  5       LeBron James  LAL  41180544.0  44474988.0         NaN   \n",
       "\n",
       "      2023-24     2024-25  2025-26  ...  Percent of Cap 2025-26  \\\n",
       "0  55761216.0  59606817.0      NaN  ...                     NaN   \n",
       "1         NaN         NaN      NaN  ...                     NaN   \n",
       "2         NaN         NaN      NaN  ...                     NaN   \n",
       "3         NaN         NaN      NaN  ...                     NaN   \n",
       "4         NaN         NaN      NaN  ...                     NaN   \n",
       "\n",
       "   Average Percent of Cap  2026-27 Percent of Cap 2026-27  2027-28  \\\n",
       "0                0.478531      NaN                    NaN      NaN   \n",
       "1                0.420000      NaN                    NaN      NaN   \n",
       "2                0.418154      NaN                    NaN      NaN   \n",
       "3                0.415613      NaN                    NaN      NaN   \n",
       "4                0.392411      NaN                    NaN      NaN   \n",
       "\n",
       "  Percent of Cap 2027-28 2028-29  Percent of Cap 2028-29  2029-30  \\\n",
       "0                    NaN     NaN                     NaN      NaN   \n",
       "1                    NaN     NaN                     NaN      NaN   \n",
       "2                    NaN     NaN                     NaN      NaN   \n",
       "3                    NaN     NaN                     NaN      NaN   \n",
       "4                    NaN     NaN                     NaN      NaN   \n",
       "\n",
       "   Percent of Cap 2029-30  \n",
       "0                     NaN  \n",
       "1                     NaN  \n",
       "2                     NaN  \n",
       "3                     NaN  \n",
       "4                     NaN  \n",
       "\n",
       "[5 rows x 58 columns]"
      ]
     },
     "execution_count": 30,
     "metadata": {},
     "output_type": "execute_result"
    }
   ],
   "source": [
    "season_dfs = {\n",
    "    '2020-21': final21,\n",
    "    '2021-22': final22,\n",
    "    '2022-23': final23,\n",
    "    '2023-24': final24,\n",
    "    '2024-25': final25\n",
    "}\n",
    "\n",
    "all_seasons = pd.concat(\n",
    "    (df.assign(Season=season) for season, df in season_dfs.items()),\n",
    "    ignore_index=True\n",
    ")\n",
    "\n",
    "# 3) (Optional) Reorder so Season is first\n",
    "cols = ['Season'] + [c for c in all_seasons.columns if c != 'Season']\n",
    "all_seasons = all_seasons[cols]\n"
   ]
  },
  {
   "cell_type": "code",
   "execution_count": 33,
   "id": "e2e2bda7",
   "metadata": {},
   "outputs": [
    {
     "name": "stdout",
     "output_type": "stream",
     "text": [
      "Index(['Season', 'Rk', 'Player', 'Tm', '2020-21', '2021-22', '2022-23',\n",
      "       '2023-24', '2024-25', '2025-26', 'Guaranteed', 'Salary Count',\n",
      "       'Average Salary', 'Rank', 'Age', 'Team', 'Position', 'Games',\n",
      "       'Games Started', 'MP', 'FG', 'FGA', 'FG%', '3P', '3PA', '3P%', '2P',\n",
      "       '2PA', '2P%', 'eFG%', 'FT', 'FTA', 'FT%', 'ORB', 'DRB', 'TRB', 'AST',\n",
      "       'STL', 'BLK', 'TOV', 'PF', 'PTS', 'Player-additional',\n",
      "       'Percent of Cap 2020-21', 'Percent of Cap 2021-22',\n",
      "       'Percent of Cap 2022-23', 'Percent of Cap 2023-24',\n",
      "       'Percent of Cap 2024-25', 'Percent of Cap 2025-26',\n",
      "       'Average Percent of Cap', '2026-27', 'Percent of Cap 2026-27',\n",
      "       '2027-28', 'Percent of Cap 2027-28', '2028-29',\n",
      "       'Percent of Cap 2028-29', '2029-30', 'Percent of Cap 2029-30'],\n",
      "      dtype='object')\n"
     ]
    }
   ],
   "source": [
    "print(all_seasons.columns)"
   ]
  },
  {
   "cell_type": "code",
   "execution_count": null,
   "id": "a20b367c",
   "metadata": {},
   "outputs": [],
   "source": []
  }
 ],
 "metadata": {
  "kernelspec": {
   "display_name": "Python 3",
   "language": "python",
   "name": "python3"
  },
  "language_info": {
   "codemirror_mode": {
    "name": "ipython",
    "version": 3
   },
   "file_extension": ".py",
   "mimetype": "text/x-python",
   "name": "python",
   "nbconvert_exporter": "python",
   "pygments_lexer": "ipython3",
   "version": "3.11.9"
  }
 },
 "nbformat": 4,
 "nbformat_minor": 5
}
